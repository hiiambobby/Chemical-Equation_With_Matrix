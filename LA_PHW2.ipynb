{
  "cells": [
    {
      "cell_type": "markdown",
      "metadata": {
        "id": "view-in-github",
        "colab_type": "text"
      },
      "source": [
        "<a href=\"https://colab.research.google.com/github/hiiambobby/Chemical-Equation_With_Matrix/blob/main/LA_PHW2.ipynb\" target=\"_parent\"><img src=\"https://colab.research.google.com/assets/colab-badge.svg\" alt=\"Open In Colab\"/></a>"
      ]
    },
    {
      "cell_type": "markdown",
      "metadata": {
        "id": "33-X3yFDCUJD"
      },
      "source": [
        "# Linear Algebra Practical Homework 2:\n",
        "\n",
        "The following assignment consists of:\n",
        "1. Implementation of elementary row operations : Scaling, Replacement, Interchange\n",
        "2. Using the defined functions to find the answer of a system\n",
        "3. Calculation of the determinant\n",
        "4. EXTRA - Plotting the answer\n",
        "\n",
        "TAs in charge: @ayrozz , @alijahan890"
      ]
    },
    {
      "cell_type": "markdown",
      "metadata": {
        "id": "t6ckBZ1yCUJH"
      },
      "source": [
        "Please fill in the following information:\n",
        "\n",
        "- Student: [Saba Seyed tabaei]\n",
        "- Student ID: [40123042]"
      ]
    },
    {
      "cell_type": "markdown",
      "metadata": {
        "collapsed": false,
        "id": "38d_JXbcCUJH"
      },
      "source": [
        "# How to complete this notebook?\n",
        "To complete this notebook you just need to change the parts of code that is marked by comment `#CHNAGE THIS PART`. Please do not change cells that contains comment `# DO NOT CHANGE THIS CELL`. These cells are for evaluating your implementation."
      ]
    },
    {
      "cell_type": "markdown",
      "metadata": {
        "id": "2V3HkApDCUJI"
      },
      "source": [
        "# Attention!\n",
        " - You are free to add, remove or edit each cell in any way you desire.\n",
        " - We strongly recommend you to observe the default order of different parts of this file.\n",
        " - NO PREDEFINED BUILT-IN FUNCTION OF EXTERNAL LIBRARIES SUCH AS NUMPY IS ALLOWED!"
      ]
    },
    {
      "cell_type": "markdown",
      "metadata": {
        "id": "oqsFWjJoCUJI"
      },
      "source": [
        "### 0. Libraries"
      ]
    },
    {
      "cell_type": "code",
      "execution_count": 778,
      "metadata": {
        "id": "Ocm2iiGECUJI"
      },
      "outputs": [],
      "source": [
        "import time\n",
        "import matplotlib.pyplot as plt\n",
        "import numpy as np\n",
        "\n",
        "row_switches = 0"
      ]
    },
    {
      "cell_type": "markdown",
      "metadata": {
        "id": "Au5wZYbHCUJK"
      },
      "source": [
        "## 1. Implementation of elementary row operations\n",
        "Implement these operations from scratch, for they will be used for upcoming sections\n"
      ]
    },
    {
      "cell_type": "markdown",
      "metadata": {
        "id": "hPAts272CUJL"
      },
      "source": [
        "### 1.1. Scaling"
      ]
    },
    {
      "cell_type": "code",
      "execution_count": 779,
      "metadata": {
        "id": "aWQOW-tXCUJM"
      },
      "outputs": [],
      "source": [
        "def op_scale(A, R, C):\n",
        "    #CHNAGE THIS PART\n",
        "    \"\"\" Multiply the R-th row of the matrix A by C, and return the new matrix \"\"\"\n",
        "    R -= 1\n",
        "    A[R] *= C\n",
        "    #print(A)\n",
        "    return A"
      ]
    },
    {
      "cell_type": "code",
      "execution_count": 780,
      "metadata": {
        "colab": {
          "base_uri": "https://localhost:8080/",
          "height": 36
        },
        "id": "9AcRMrqJCUJN",
        "outputId": "c0b698a4-55c4-4136-c41d-24ad1d466874"
      },
      "outputs": [
        {
          "output_type": "execute_result",
          "data": {
            "text/plain": [
              "'\\n Expected_output = [[10, 3, 2, 1],\\n                    [ 3, 0,12, 6],\\n                    [ 7, 5,-1, 9],\\n                    [-6,-7, 8,-4]]\\n'"
            ],
            "application/vnd.google.colaboratory.intrinsic+json": {
              "type": "string"
            }
          },
          "metadata": {},
          "execution_count": 780
        }
      ],
      "source": [
        "#e.g.\n",
        "# DO NOT CHANGE THIS CELL\n",
        "A = np.array([[10, 3, 2, 1],\n",
        "               [ 1, 0, 4, 2],\n",
        "               [ 7, 5,-1, 9],\n",
        "               [-6,-7, 8,-4]])\n",
        "\n",
        "op_scale(A, 2, 3)\n",
        "\n",
        "\n",
        "\"\"\"\n",
        " Expected_output = [[10, 3, 2, 1],\n",
        "                    [ 3, 0,12, 6],\n",
        "                    [ 7, 5,-1, 9],\n",
        "                    [-6,-7, 8,-4]]\n",
        "\"\"\"\n"
      ]
    },
    {
      "cell_type": "markdown",
      "metadata": {
        "id": "CAoguYyrCUJN"
      },
      "source": [
        "### 1.2. Interchange"
      ]
    },
    {
      "cell_type": "code",
      "execution_count": 781,
      "metadata": {
        "id": "vXxQpsKXCUJO"
      },
      "outputs": [],
      "source": [
        "def op_interchange(A, R1, R2):\n",
        "    #CHNAGE THIS PART\n",
        "    \"\"\" Replace R1-th and R2-th rows in the matrix A, and return the new matrix \"\"\"\n",
        "    R1 = R1 - 1\n",
        "    R2 = R2 - 1\n",
        "    A[[R1,R2]] = A[[R2,R1]]\n",
        "    #print(A)\n",
        "    return A\n",
        "\n"
      ]
    },
    {
      "cell_type": "code",
      "execution_count": 782,
      "metadata": {
        "colab": {
          "base_uri": "https://localhost:8080/",
          "height": 36
        },
        "id": "6r9BQlV0CUJO",
        "outputId": "30c54069-0f9c-4bd3-fd35-cc78109984b4"
      },
      "outputs": [
        {
          "output_type": "execute_result",
          "data": {
            "text/plain": [
              "'\\nExpected_output = [[10, 3, 2, 1],\\n                    [ 3, 0,12, 6],\\n                    [-6,-7, 8,-4],\\n                    [ 7, 5,-1, 9]]\\n'"
            ],
            "application/vnd.google.colaboratory.intrinsic+json": {
              "type": "string"
            }
          },
          "metadata": {},
          "execution_count": 782
        }
      ],
      "source": [
        "# e.g.\n",
        "# DO NOT CHANGE THIS CELL\n",
        "op_interchange(A, 3, 4)\n",
        "\"\"\"\n",
        "Expected_output = [[10, 3, 2, 1],\n",
        "                    [ 3, 0,12, 6],\n",
        "                    [-6,-7, 8,-4],\n",
        "                    [ 7, 5,-1, 9]]\n",
        "\"\"\""
      ]
    },
    {
      "cell_type": "markdown",
      "metadata": {
        "id": "tbxwodJNCUJO"
      },
      "source": [
        "### 1.3. Replace"
      ]
    },
    {
      "cell_type": "code",
      "execution_count": 783,
      "metadata": {
        "id": "rELnQ9AwCUJO"
      },
      "outputs": [],
      "source": [
        "def op_replace(A, R1, R2 , C):\n",
        "    #CHNAGE THIS PART\n",
        "    \"\"\" Replace the R2-th row with (R2 + C*R1), and return the new matrix \"\"\"\n",
        "    R2 -= 1\n",
        "    R1 -= 1\n",
        "    A[R2] = A[R2] + A[R1] * C\n",
        "    #print(A)\n",
        "    return A\n"
      ]
    },
    {
      "cell_type": "code",
      "execution_count": 784,
      "metadata": {
        "colab": {
          "base_uri": "https://localhost:8080/",
          "height": 36
        },
        "id": "YuiGayUvCUJP",
        "outputId": "a8af67ae-1762-4e0e-b1fe-4e2aff7090c6"
      },
      "outputs": [
        {
          "output_type": "execute_result",
          "data": {
            "text/plain": [
              "'\\nExpected_output = [[22, 3,50,25],\\n                   [ 3, 0,12, 6],\\n                   [-6,-7, 8,-4],\\n                   [ 7, 5,-1, 9]]\\n'"
            ],
            "application/vnd.google.colaboratory.intrinsic+json": {
              "type": "string"
            }
          },
          "metadata": {},
          "execution_count": 784
        }
      ],
      "source": [
        "# e.g.\n",
        "# DO NOT CHANGE THIS CELL\n",
        "op_replace(A, 2, 1, 4)\n",
        "\"\"\"\n",
        "Expected_output = [[22, 3,50,25],\n",
        "                   [ 3, 0,12, 6],\n",
        "                   [-6,-7, 8,-4],\n",
        "                   [ 7, 5,-1, 9]]\n",
        "\"\"\"\n"
      ]
    },
    {
      "cell_type": "markdown",
      "metadata": {
        "id": "MPUhxF9UCUJP"
      },
      "source": [
        "## 2. Solving a system of linear equations\n",
        "In this part, you are required to use the functions defined in the previous part to find the solution to a linear system of equations.\n"
      ]
    },
    {
      "cell_type": "markdown",
      "metadata": {
        "id": "oREhRSm0CUJP"
      },
      "source": [
        "### 2.1. Row Echelon Form"
      ]
    },
    {
      "cell_type": "code",
      "execution_count": 785,
      "metadata": {
        "id": "YVCmsniFCUJP"
      },
      "outputs": [],
      "source": [
        "def row_echelon(A):\n",
        "    A = A.astype(float)\n",
        "    m, n = A.shape\n",
        "    global row_switches\n",
        "    lead = 0\n",
        "    for r in range(m):\n",
        "        if lead >= n:\n",
        "            break\n",
        "        i = r\n",
        "        while i < m and A[i, lead] == 0:\n",
        "            i += 1\n",
        "        if i == m:  # If no non-zero entry is found in the current column\n",
        "            lead += 1  # Move to the next column\n",
        "            continue\n",
        "        # Swap rows if a non-zero entry is found below the current row\n",
        "        if i != r:\n",
        "            op_interchange(A,r+1,i+1)\n",
        "            row_switches += 1\n",
        "        for j in range(r+1, m):\n",
        "            if A[j, lead] != 0:  # Only if the entry is not already zero\n",
        "                multiplier = A[j, lead] / A[r, lead]\n",
        "                op_replace(A,r+1,j+1,-multiplier)\n",
        "        lead += 1\n",
        "    #print(A)\n",
        "    return A\n",
        "\n",
        "\n",
        "\n",
        "\n"
      ]
    },
    {
      "cell_type": "code",
      "execution_count": 786,
      "metadata": {
        "colab": {
          "base_uri": "https://localhost:8080/",
          "height": 36
        },
        "id": "jhv7gaL-CUJP",
        "outputId": "53eea2a5-c623-4033-f49d-864f8f42fdac"
      },
      "outputs": [
        {
          "output_type": "execute_result",
          "data": {
            "text/plain": [
              "'\"\\nNotice that any true row-echelon form is acceptable. An example is given below:\\n([[ 1, 2, 3, 4],\\n  [ 0,-4,-8,-12],\\n  [ 0, 0, 0, 0]])\\n'"
            ],
            "application/vnd.google.colaboratory.intrinsic+json": {
              "type": "string"
            }
          },
          "metadata": {},
          "execution_count": 786
        }
      ],
      "source": [
        "#e.g.\n",
        "# DO NOT CHANGE THIS CELL\n",
        "B = np.array([[ 1, 2, 3, 4],\n",
        "              [ 5, 6, 7, 8],\n",
        "              [ 9,10,11,12]])\n",
        "row_echelon(B)\n",
        "\"\"\"\"\n",
        "Notice that any true row-echelon form is acceptable. An example is given below:\n",
        "([[ 1, 2, 3, 4],\n",
        "  [ 0,-4,-8,-12],\n",
        "  [ 0, 0, 0, 0]])\n",
        "\"\"\"\n"
      ]
    },
    {
      "cell_type": "markdown",
      "metadata": {
        "id": "Nbkos2b9CUJP"
      },
      "source": [
        "### 2.2. Reduce Row Echelon Form"
      ]
    },
    {
      "cell_type": "code",
      "execution_count": 787,
      "metadata": {
        "id": "yR-K83hYCUJQ"
      },
      "outputs": [],
      "source": [
        "def reduce(A):\n",
        "    #CHNAGE THIS PART\n",
        "    \"\"\" Define an algorithm to find the reduced-row-echelon form of the input matrix\n",
        "        ATTENTION : Assume  the input matrix is already in row-echelon form!\"\"\"\n",
        "    echelon_matrix = row_echelon(A).astype(float)\n",
        "    m, n = A.shape\n",
        "    lead = 0\n",
        "    for r in range(m):\n",
        "        if lead >= n:\n",
        "            return\n",
        "        i = r\n",
        "        while i < m and A[i, lead] == 0:\n",
        "            i += 1\n",
        "        if i == m:\n",
        "            lead += 1\n",
        "            continue\n",
        "        op_interchange(A,i+1,r+1)\n",
        "        lv = A[r, lead]\n",
        "        A[r] = A[r] / lv\n",
        "        for i in range(m):\n",
        "            if i != r:\n",
        "                lv = A[i, lead]\n",
        "                op_replace(A,r+1,i+1,-lv)\n",
        "        lead += 1\n",
        "    #print(A)  # Print the final row echelon form\n",
        "    return A"
      ]
    },
    {
      "cell_type": "code",
      "execution_count": 788,
      "metadata": {
        "colab": {
          "base_uri": "https://localhost:8080/",
          "height": 36
        },
        "id": "XswNIPQzCUJQ",
        "outputId": "8ddf399b-4d68-4bea-fe44-661164ad6676"
      },
      "outputs": [
        {
          "output_type": "execute_result",
          "data": {
            "text/plain": [
              "'\\nExpected_output = [[ 1, 0,-1,-2],\\n                   [ 0, 1, 2, 3],\\n                   [ 0, 0, 0, 0]]\\n'"
            ],
            "application/vnd.google.colaboratory.intrinsic+json": {
              "type": "string"
            }
          },
          "metadata": {},
          "execution_count": 788
        }
      ],
      "source": [
        "# e.g.\n",
        "# DO NOT CHANGE THIS CELL\n",
        "B = np.array([[ 1, 2, 3, 4],\n",
        "              [ 0,-4,-8,-12],\n",
        "              [ 0, 0, 0, 0]])\n",
        "reduce(B)\n",
        "\"\"\"\n",
        "Expected_output = [[ 1, 0,-1,-2],\n",
        "                   [ 0, 1, 2, 3],\n",
        "                   [ 0, 0, 0, 0]]\n",
        "\"\"\""
      ]
    },
    {
      "cell_type": "markdown",
      "metadata": {
        "id": "PTl8f8VMCUJQ"
      },
      "source": [
        "### 2.3. Existence of the Solution\n",
        "Based on the reduced form of the augmented matrix and prior to finding the answer, make sure the solution exists!"
      ]
    },
    {
      "cell_type": "code",
      "execution_count": 789,
      "metadata": {
        "id": "Ssz_FiN4CUJQ"
      },
      "outputs": [],
      "source": [
        "def is_consistent(A):\n",
        "    #CHNAGE THIS PART\n",
        "    \"\"\" Make sure the system has a solution or not \"\"\"\n",
        "    reduce(A)  # Assuming row_echelon modifies A in place.\n",
        "\n",
        "    last_row = A[-1]\n",
        "\n",
        "    # Check if the last row represents an equation of the form 0x + 0y + ... = b where b != 0\n",
        "    if np.all(last_row[:-1] == 0) and last_row[-1] != 0:\n",
        "        return False  # The system is inconsistent if true.\n",
        "\n",
        "    return True  # Otherwise, the system is considered consistent.\n",
        "\n",
        "\n"
      ]
    },
    {
      "cell_type": "code",
      "execution_count": 790,
      "metadata": {
        "colab": {
          "base_uri": "https://localhost:8080/",
          "height": 36
        },
        "id": "dpbeegNgCUJQ",
        "outputId": "ace9696a-a424-4a4e-d628-c36bf9615294"
      },
      "outputs": [
        {
          "output_type": "execute_result",
          "data": {
            "text/plain": [
              "'\\nexpected_output: true\\n'"
            ],
            "application/vnd.google.colaboratory.intrinsic+json": {
              "type": "string"
            }
          },
          "metadata": {},
          "execution_count": 790
        }
      ],
      "source": [
        "#e.g.\n",
        "# DO NOT CHANGE THIS CELL\n",
        "is_consistent(B)\n",
        "\"\"\"\n",
        "expected_output: true\n",
        "\"\"\""
      ]
    },
    {
      "cell_type": "markdown",
      "metadata": {
        "id": "-mcljOMvCUJR"
      },
      "source": [
        "### 2.4. Uniqueness of the Solution\n",
        "Based on prior information, make sure whether the solution is unique or not!"
      ]
    },
    {
      "cell_type": "code",
      "execution_count": 791,
      "metadata": {
        "id": "5O7jLFAFCUJR"
      },
      "outputs": [],
      "source": [
        "def is_unique(A):\n",
        "    #CHNAGE THIS PART\n",
        "    \"\"\" Address the uniqueness of solution \"\"\"\n",
        "    reduce(A)\n",
        "    m, n = A.shape\n",
        "    for i in range(m):\n",
        "        leading_entry_count = 0\n",
        "        for j in range(n - 1):\n",
        "            if A[i, j] != 0:\n",
        "                leading_entry_count += 1\n",
        "        if leading_entry_count > 1:\n",
        "            return False\n",
        "    return True"
      ]
    },
    {
      "cell_type": "code",
      "execution_count": 792,
      "metadata": {
        "colab": {
          "base_uri": "https://localhost:8080/",
          "height": 36
        },
        "id": "Puw7Iz9bCUJR",
        "outputId": "08a107f9-7b33-48fa-a7fd-fda4c856b148"
      },
      "outputs": [
        {
          "output_type": "execute_result",
          "data": {
            "text/plain": [
              "'\\nexpected_output: false\\n'"
            ],
            "application/vnd.google.colaboratory.intrinsic+json": {
              "type": "string"
            }
          },
          "metadata": {},
          "execution_count": 792
        }
      ],
      "source": [
        "#e.g.\n",
        "# DO NOT CHANGE THIS CELL\n",
        "is_unique(B)\n",
        "\"\"\"\n",
        "expected_output: false\n",
        "\"\"\""
      ]
    },
    {
      "cell_type": "markdown",
      "metadata": {
        "id": "VNwA6W_xCUJS"
      },
      "source": [
        "### 2.5. Finding (just a) Solution\n",
        "If the system has a solution, find and return it.\n",
        "If the system has infinite solutions, return only one solution and double-check it with the original system defintion."
      ]
    },
    {
      "cell_type": "code",
      "execution_count": 793,
      "metadata": {
        "colab": {
          "base_uri": "https://localhost:8080/"
        },
        "id": "SMughBCYCUJS",
        "outputId": "9369f9d3-22a3-43c6-f155-9cb9302765d8"
      },
      "outputs": [
        {
          "output_type": "stream",
          "name": "stdout",
          "text": [
            "we have infinity solutions but here is one of them:\n",
            "[-2.  3.  0.]\n"
          ]
        }
      ],
      "source": [
        "def solve(A):\n",
        "    if not is_consistent(A):\n",
        "        return \"The system has no solution.\"\n",
        "\n",
        "    m, n = A.shape\n",
        "    solution = np.zeros(n-1)  # Prepare a solution array with zeros, size of columns minus one for the augmented part\n",
        "\n",
        "    if is_unique(A):\n",
        "        # If the system has a unique solution, extract it directly\n",
        "        for i in range(m):\n",
        "            solution[i] = A[i, -1] / A[i, i]\n",
        "    else:\n",
        "        print(\"we have infinity solutions but here is one of them:\")\n",
        "        # If the system has infinite solutions, set free variables to 0 or another value by choice\n",
        "        # and solve for the others as an example solution\n",
        "        for i in range(m):\n",
        "            if A[i, i] != 0:  # Avoid division by zero for rows that don't represent a variable\n",
        "                solution[i] = A[i, -1] / A[i, i]\n",
        "            # Else, it's a free variable, already set to 0 by default in `solution`\n",
        "\n",
        "    return solution\n",
        "\n",
        "C = np.array([[1, 2, 3, 4],\n",
        "              [0, 2, 4, 6],\n",
        "              [0, 0, 0, 0]])\n",
        "\n",
        "print(solve(C))"
      ]
    },
    {
      "cell_type": "markdown",
      "metadata": {
        "id": "48KU3vB0CUJS"
      },
      "source": [
        "## 3. Determinant\n",
        "In this section, you are requiered to find the determinant of a matrix in two different ways and compare them in the sense of computation complexity.\n"
      ]
    },
    {
      "cell_type": "markdown",
      "metadata": {
        "id": "WAh6qrCnCUJS"
      },
      "source": [
        "### 3.1. Recursive algorithm\n",
        "Implement a recursive algorithm to compute the determinant of a N*N matrix, using expansion with respect to a column or a row.\n"
      ]
    },
    {
      "cell_type": "code",
      "execution_count": 794,
      "metadata": {
        "id": "j6pU4M4eCUJT"
      },
      "outputs": [],
      "source": [
        "def det_recursive(matrix):\n",
        "    #CHNAGE THIS PART\n",
        "    \"\"\" Find the determinant of the matrix A, make sure it is a square matrix and raise an error otherwise \"\"\"\n",
        "    if matrix.shape[0] == matrix.shape[1]:\n",
        "        firstrow = matrix[0]\n",
        "        return find_determinant(matrix, firstrow)\n",
        "    else:\n",
        "         raise ValueError(\"Matrix must be square.\")\n",
        "\n",
        "    \"\"\"the method is like this: We make the N*N matrix (N-1)*(N-1) and continue this until we get a 3 * 3 matrix\n",
        "    then we calculate it by making 2 * 2 matrixes(we all know this method)\n",
        "    then we continue by making other 3 * 3 matrixes and so on. this method will take a lot of time!!!\"\"\"\n",
        "\n",
        "def find_determinant(matrix, first_row):\n",
        "    det = 0\n",
        "    firstrow = matrix[0]\n",
        "    if matrix.shape[0]==2:\n",
        "        return (matrix[0][0]*matrix[1][1]) - (matrix[0][1]*matrix[1][0]) #2x2 determinant\n",
        "    else:\n",
        "        for i in range(matrix.shape[0]):\n",
        "            valor = ((-1)**(i))*firstrow[i]*find_determinant(new_matrix(matrix, i), firstrow)\n",
        "            det = det + valor\n",
        "    return det\n",
        "\n",
        "def new_matrix(matrix, n):\n",
        "    newmatrix = np.zeros((matrix.shape[0]-1, matrix.shape[0]-1))\n",
        "    ci = 0\n",
        "    for i in range(matrix.shape[0]):\n",
        "        cj = 0\n",
        "        if i==0:\n",
        "            continue\n",
        "        else:\n",
        "            ci+=1\n",
        "            for j in range(matrix.shape[0]):\n",
        "                if j==n:\n",
        "                    continue\n",
        "                else:\n",
        "                    cj+=1\n",
        "                    newmatrix[ci-1][cj-1] = matrix[i][j]\n",
        "    return newmatrix\n",
        ""
      ]
    },
    {
      "cell_type": "code",
      "execution_count": 795,
      "metadata": {
        "colab": {
          "base_uri": "https://localhost:8080/",
          "height": 53
        },
        "id": "YLWzggmZCUJT",
        "outputId": "d4354ea0-d409-4f63-be23-0af8d57186da"
      },
      "outputs": [
        {
          "output_type": "stream",
          "name": "stdout",
          "text": [
            "190.0\n"
          ]
        },
        {
          "output_type": "execute_result",
          "data": {
            "text/plain": [
              "'\\nexpected_output = 190\\n'"
            ],
            "application/vnd.google.colaboratory.intrinsic+json": {
              "type": "string"
            }
          },
          "metadata": {},
          "execution_count": 795
        }
      ],
      "source": [
        "#e.g.\n",
        "# DO NOT CHANGE THIS CELL\n",
        "Matrix = np.array([[ 5, 7,-2, 1],\n",
        "                   [-1, 5,-3, 0],\n",
        "                   [ 3,11,-2,-9],\n",
        "                   [ 8, 0, 4,-1]])\n",
        "print(det_recursive(Matrix))\n",
        "\"\"\"\n",
        "expected_output = 190\n",
        "\"\"\""
      ]
    },
    {
      "cell_type": "markdown",
      "metadata": {
        "id": "00PQ1ggBCUJT"
      },
      "source": [
        "#### 3.1.1. Test your algorithm\n",
        "Measure the computation time of you recursive algorithm by testing it N*N matrixes, N= 2, 3, 4, 5, 6, 7"
      ]
    },
    {
      "cell_type": "code",
      "execution_count": 796,
      "metadata": {
        "colab": {
          "base_uri": "https://localhost:8080/"
        },
        "id": "SfUa0J9NCUJT",
        "outputId": "dbe5c800-7321-44b1-dc67-8f546fe0e26f"
      },
      "outputs": [
        {
          "output_type": "stream",
          "name": "stdout",
          "text": [
            "Time Elapsed for recursive computation of determinant of M2 :  0.00010514259338378906\n",
            "Time Elapsed for recursive computation of determinant of M3 :  0.0018436908721923828\n",
            "Time Elapsed for recursive computation of determinant of M4 :  0.0033884048461914062\n",
            "Time Elapsed for recursive computation of determinant of M5 :  0.006006717681884766\n",
            "Time Elapsed for recursive computation of determinant of M6 :  0.014249801635742188\n",
            "Time Elapsed for recursive computation of determinant of M7 :  0.04689216613769531\n"
          ]
        }
      ],
      "source": [
        "# Testing\n",
        "M2 = np.array([[4,5],[2,3]])\n",
        "M3 = np.array([[3,2,1],[2,2,2],[0,3,1]])\n",
        "M4 = np.random.randint(0, 10, size=(4, 4))\n",
        "M5 = np.random.randint(0, 10, size=(5, 5))\n",
        "M6 = np.random.randint(0, 10, size=(6, 6))\n",
        "M7 = np.random.randint(0, 10, size=(7, 7))\n",
        "\n",
        "# define the rest of the matrixes up to 7*7, you may use random number generators [done]\n",
        "\n",
        "elapsed_time_recursive=[0]*6\n",
        "\n",
        "start_time = time.time()\n",
        "d1 = det_recursive(M2)\n",
        "end_time = time.time()\n",
        "elapsed_time_recursive[0] = end_time - start_time\n",
        "print(\"Time Elapsed for recursive computation of determinant of M2 : \" , elapsed_time_recursive[0])\n",
        "# Do the same for the rest of the matrices up to 7*7\n",
        "d2 = det_recursive(M3)\n",
        "end_time = time.time()\n",
        "elapsed_time_recursive[1] = end_time - start_time\n",
        "print(\"Time Elapsed for recursive computation of determinant of M3 : \" , elapsed_time_recursive[1])\n",
        "##\n",
        "d3 = det_recursive(M4)\n",
        "end_time = time.time()\n",
        "elapsed_time_recursive[2] = end_time - start_time\n",
        "print(\"Time Elapsed for recursive computation of determinant of M4 : \" , elapsed_time_recursive[2])\n",
        "##\n",
        "d4 = det_recursive(M5)\n",
        "end_time = time.time()\n",
        "elapsed_time_recursive[3] = end_time - start_time\n",
        "print(\"Time Elapsed for recursive computation of determinant of M5 : \" , elapsed_time_recursive[3])\n",
        "##\n",
        "d5 = det_recursive(M6)\n",
        "end_time = time.time()\n",
        "elapsed_time_recursive[4] = end_time - start_time\n",
        "print(\"Time Elapsed for recursive computation of determinant of M6 : \" , elapsed_time_recursive[4])\n",
        "##\n",
        "d6 = det_recursive(M7)\n",
        "end_time = time.time()\n",
        "elapsed_time_recursive[5] = end_time - start_time\n",
        "print(\"Time Elapsed for recursive computation of determinant of M7 : \" , elapsed_time_recursive[5])\n",
        "\n"
      ]
    },
    {
      "cell_type": "markdown",
      "metadata": {
        "id": "h5P7vW0ACUJU"
      },
      "source": [
        "### 3.2. Row Echelon\n",
        "Use the function defined in part 1 to find the row echelon form of the matrix and calculate the determinant\n",
        "\n",
        "#### ATTENTION: BEWARE OF THE IMPACT OF EACH OPERATION ON THE DETERMINANT!"
      ]
    },
    {
      "cell_type": "code",
      "execution_count": 797,
      "metadata": {
        "id": "uCoyWF8yCUJU",
        "colab": {
          "base_uri": "https://localhost:8080/",
          "height": 36
        },
        "outputId": "9ea700a0-4640-46f7-9db6-18bcfeff83a3"
      },
      "outputs": [
        {
          "output_type": "execute_result",
          "data": {
            "text/plain": [
              "'Matrix = np.array([[ 5, 7,-2, 1],\\n                   [-1, 5,-3, 0],\\n                   [ 3,11,-2,-9],\\n                   [ 8, 0, 4,-1]])\\n\\nprint(det_row_echelon(Matrix))'"
            ],
            "application/vnd.google.colaboratory.intrinsic+json": {
              "type": "string"
            }
          },
          "metadata": {},
          "execution_count": 797
        }
      ],
      "source": [
        "def det_row_echelon(A):\n",
        "    #CHNAGE THIS PART\n",
        "    \"\"\" Find the determinant of the matrix A, make sure it is a square matrix and raise error otherwise \"\"\"\n",
        "    global row_switches\n",
        "    matrix = row_echelon(A)\n",
        "    if matrix.shape[0] != matrix.shape[1]:\n",
        "      raise ValueError(\"Matrix must be square.\")\n",
        "\n",
        "    return matrix.diagonal().prod()*pow(-1,row_switches)\n",
        "\n",
        "\"\"\"Matrix = np.array([[ 5, 7,-2, 1],\n",
        "                   [-1, 5,-3, 0],\n",
        "                   [ 3,11,-2,-9],\n",
        "                   [ 8, 0, 4,-1]])\n",
        "\n",
        "print(det_row_echelon(Matrix))\"\"\"\n",
        "\n"
      ]
    },
    {
      "cell_type": "markdown",
      "metadata": {
        "id": "7C1wWoX3CUJZ"
      },
      "source": [
        "#### 3.2.1 Test your algorithm\n",
        "Measure the computation time of you recursive algorithm by testing it on the matrixes defined in the previous section."
      ]
    },
    {
      "cell_type": "code",
      "execution_count": 798,
      "metadata": {
        "colab": {
          "base_uri": "https://localhost:8080/"
        },
        "id": "8gJR-XByCUJa",
        "outputId": "70514f3a-930a-44a4-fff8-249480de0c38"
      },
      "outputs": [
        {
          "output_type": "stream",
          "name": "stdout",
          "text": [
            "Time Elapsed for rowechelon computation of determinant of M2 :  0.00027680397033691406\n",
            "Time Elapsed for rowechelon computation of determinant of M3 :  0.0023415088653564453\n",
            "Time Elapsed for rowechelon computation of determinant of M4 :  0.0038299560546875\n",
            "Time Elapsed for rowechelon computation of determinant of M5 :  0.006411552429199219\n",
            "Time Elapsed for rowechelon computation of determinant of M6 :  0.008035659790039062\n",
            "Time Elapsed for rowechelon computation of determinant of M7 :  0.009584188461303711\n"
          ]
        }
      ],
      "source": [
        "# Testing\n",
        "elapsed_time_rowechelon=[0]*6\n",
        "\n",
        "start_time = time.time()\n",
        "d1 = det_row_echelon(M2)\n",
        "end_time= time.time()\n",
        "elapsed_time_rowechelon[0] = end_time - start_time\n",
        "\n",
        "print(\"Time Elapsed for rowechelon computation of determinant of M2 : \" , elapsed_time_rowechelon[0])\n",
        "\n",
        "# Do the same for the rest of the matrices up to 7*7\n",
        "d2 = det_row_echelon(M3)\n",
        "end_time = time.time()\n",
        "elapsed_time_rowechelon[1] = end_time - start_time\n",
        "print(\"Time Elapsed for rowechelon computation of determinant of M3 : \" , elapsed_time_rowechelon[1])\n",
        "##\n",
        "d3 = det_row_echelon(M4)\n",
        "end_time = time.time()\n",
        "elapsed_time_rowechelon[2] = end_time - start_time\n",
        "print(\"Time Elapsed for rowechelon computation of determinant of M4 : \" , elapsed_time_rowechelon[2])\n",
        "##\n",
        "d4 = det_recursive(M5)\n",
        "end_time = time.time()\n",
        "elapsed_time_rowechelon[3] = end_time - start_time\n",
        "print(\"Time Elapsed for rowechelon computation of determinant of M5 : \" , elapsed_time_rowechelon[3])\n",
        "##\n",
        "d5 = det_row_echelon(M6)\n",
        "end_time = time.time()\n",
        "elapsed_time_rowechelon[4] = end_time - start_time\n",
        "print(\"Time Elapsed for rowechelon computation of determinant of M6 : \" , elapsed_time_rowechelon[4])\n",
        "##\n",
        "d6 = det_row_echelon(M7)\n",
        "end_time = time.time()\n",
        "elapsed_time_rowechelon[5] = end_time - start_time\n",
        "print(\"Time Elapsed for rowechelon computation of determinant of M7 : \" , elapsed_time_rowechelon[5])\n"
      ]
    },
    {
      "cell_type": "markdown",
      "metadata": {
        "id": "dn8FqvlzCUJa"
      },
      "source": [
        "### 3.3. Compare the computation time of the two proposed methods\n",
        "Try to plot the computation time versus matrix size for both methods using matplotlib functions."
      ]
    },
    {
      "cell_type": "code",
      "execution_count": 799,
      "metadata": {
        "id": "HHcKDBN7CUJa",
        "colab": {
          "base_uri": "https://localhost:8080/",
          "height": 996
        },
        "outputId": "609c80d7-6ca4-450b-d910-116d252db652"
      },
      "outputs": [
        {
          "output_type": "display_data",
          "data": {
            "text/plain": [
              "<Figure size 640x480 with 1 Axes>"
            ],
            "image/png": "[encoded data removed]"
          },
          "metadata": {}
        },
        {
          "output_type": "stream",
          "name": "stdout",
          "text": [
            "\n",
            "\n"
          ]
        },
        {
          "output_type": "display_data",
          "data": {
            "text/plain": [
              "<Figure size 640x480 with 1 Axes>"
            ],
            "image/png": "[encoded data removed]"
          },
          "metadata": {}
        },
        {
          "output_type": "stream",
          "name": "stdout",
          "text": [
            "\n",
            " So based on this comparison the Row Echelon Method is more efficient\n"
          ]
        }
      ],
      "source": [
        "# Plot the recorded data\n",
        "\n",
        "x = [2, 3, 4, 5,6,7]\n",
        "\n",
        "# Plot the data\n",
        "plt.plot(x, elapsed_time_rowechelon)\n",
        "\n",
        "# Add labels and title\n",
        "plt.xlabel(\"Matrix_size\")\n",
        "plt.ylabel(\"elapsed_time\")\n",
        "plt.title(\"Row Echelon Method\")\n",
        "\n",
        "# Show the plot\n",
        "plt.show()\n",
        "\n",
        "x = [2, 3, 4, 5,6,7]\n",
        "\n",
        "# Plot the data\n",
        "plt.plot(x, elapsed_time_recursive)\n",
        "\n",
        "# Add labels and title\n",
        "plt.xlabel(\"Matrix_size\")\n",
        "plt.ylabel(\"elapsed_time\")\n",
        "plt.title(\"Recursive Method\")\n",
        "\n",
        "# Show the plot\n",
        "print(\"\\n\")\n",
        "plt.show()\n",
        "\n",
        "print(\"\\n So based on this comparison the Row Echelon Method is more efficient\")"
      ]
    },
    {
      "cell_type": "markdown",
      "metadata": {
        "id": "H9RBn_UYCUJa"
      },
      "source": [
        "## 4. EXTRA - 2D and 3D plotting\n",
        "In this part, you are demanded to solve two underdetermined systems of size N=2 and N=3 and plot the hyperplane of the results using matplotlib.\n",
        "For example if a 2*2 system in underdetermined (has infinitely many solutions), the solution space is the span of a vector set consisting of one 2-dimentional vector, thus it can be plotted as a line in the 2D space.\n",
        "\n",
        "Solving this part will provide you with extra points."
      ]
    },
    {
      "cell_type": "code",
      "execution_count": 800,
      "metadata": {
        "id": "xNlWYUDRCUJb"
      },
      "outputs": [],
      "source": [
        "# Plot the solution set"
      ]
    }
  ],
  "metadata": {
    "colab": {
      "provenance": [],
      "include_colab_link": true
    },
    "kernelspec": {
      "display_name": "Python 3",
      "name": "python3"
    },
    "language_info": {
      "name": "python"
    }
  },
  "nbformat": 4,
  "nbformat_minor": 0
}